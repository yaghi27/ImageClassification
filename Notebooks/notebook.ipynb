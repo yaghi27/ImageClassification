{
 "cells": [
  {
   "cell_type": "markdown",
   "metadata": {},
   "source": [
    "# Imports"
   ]
  },
  {
   "cell_type": "code",
   "execution_count": 1,
   "metadata": {},
   "outputs": [
    {
     "name": "stderr",
     "output_type": "stream",
     "text": [
      "2024-12-12 15:59:49.322840: E external/local_xla/xla/stream_executor/cuda/cuda_fft.cc:477] Unable to register cuFFT factory: Attempting to register factory for plugin cuFFT when one has already been registered\n",
      "WARNING: All log messages before absl::InitializeLog() is called are written to STDERR\n",
      "E0000 00:00:1734019190.257200   23756 cuda_dnn.cc:8310] Unable to register cuDNN factory: Attempting to register factory for plugin cuDNN when one has already been registered\n",
      "E0000 00:00:1734019190.565527   23756 cuda_blas.cc:1418] Unable to register cuBLAS factory: Attempting to register factory for plugin cuBLAS when one has already been registered\n"
     ]
    }
   ],
   "source": [
    "from imports import *"
   ]
  },
  {
   "cell_type": "markdown",
   "metadata": {},
   "source": [
    "# Load data, train model, evaluate, save"
   ]
  },
  {
   "cell_type": "code",
   "execution_count": 2,
   "metadata": {},
   "outputs": [
    {
     "name": "stderr",
     "output_type": "stream",
     "text": [
      "/home/s5724039/.pyenv/versions/anaconda3-2024.06-1/lib/python3.12/site-packages/torchvision/models/_utils.py:208: UserWarning: The parameter 'pretrained' is deprecated since 0.13 and may be removed in the future, please use 'weights' instead.\n",
      "  warnings.warn(\n",
      "/home/s5724039/.pyenv/versions/anaconda3-2024.06-1/lib/python3.12/site-packages/torchvision/models/_utils.py:223: UserWarning: Arguments other than a weight enum or `None` for 'weights' are deprecated since 0.13 and may be removed in the future. The current behavior is equivalent to passing `weights=ResNet50_Weights.IMAGENET1K_V1`. You can also use `weights=ResNet50_Weights.DEFAULT` to get the most up-to-date weights.\n",
      "  warnings.warn(msg)\n",
      "2024-12-09 14:28:08,179 - DataLoader - INFO - Loading data...\n"
     ]
    },
    {
     "name": "stdout",
     "output_type": "stream",
     "text": [
      "Files already downloaded and verified\n",
      "Files already downloaded and verified\n"
     ]
    },
    {
     "name": "stderr",
     "output_type": "stream",
     "text": [
      "2024-12-09 14:28:22,451 - ModelTrainer - INFO - [Epoch 1] Average Loss: 1.4846, Accuracy: 49.34%\n",
      "2024-12-09 14:28:35,444 - ModelTrainer - INFO - [Epoch 2] Average Loss: 1.0912, Accuracy: 62.25%\n",
      "2024-12-09 14:28:48,147 - ModelTrainer - INFO - [Epoch 3] Average Loss: 1.0592, Accuracy: 64.16%\n",
      "2024-12-09 14:29:01,061 - ModelTrainer - INFO - [Epoch 4] Average Loss: 1.0898, Accuracy: 63.16%\n",
      "2024-12-09 14:29:14,097 - ModelTrainer - INFO - [Epoch 5] Average Loss: 0.9246, Accuracy: 68.25%\n",
      "2024-12-09 14:29:27,064 - ModelTrainer - INFO - [Epoch 6] Average Loss: 0.8336, Accuracy: 71.44%\n",
      "2024-12-09 14:29:40,098 - ModelTrainer - INFO - [Epoch 7] Average Loss: 0.8417, Accuracy: 71.34%\n",
      "2024-12-09 14:29:53,131 - ModelTrainer - INFO - [Epoch 8] Average Loss: 0.7784, Accuracy: 73.20%\n",
      "2024-12-09 14:30:06,164 - ModelTrainer - INFO - [Epoch 9] Average Loss: 0.7329, Accuracy: 74.68%\n",
      "2024-12-09 14:30:19,195 - ModelTrainer - INFO - [Epoch 10] Average Loss: 0.7680, Accuracy: 73.79%\n",
      "2024-12-09 14:30:32,228 - ModelTrainer - INFO - [Epoch 11] Average Loss: 0.7057, Accuracy: 75.75%\n",
      "2024-12-09 14:30:45,267 - ModelTrainer - INFO - [Epoch 12] Average Loss: 0.6702, Accuracy: 76.94%\n",
      "2024-12-09 14:30:58,294 - ModelTrainer - INFO - [Epoch 13] Average Loss: 0.6455, Accuracy: 77.91%\n",
      "2024-12-09 14:31:11,331 - ModelTrainer - INFO - [Epoch 14] Average Loss: 0.6271, Accuracy: 78.39%\n",
      "2024-12-09 14:31:24,365 - ModelTrainer - INFO - [Epoch 15] Average Loss: 0.6125, Accuracy: 79.03%\n",
      "2024-12-09 14:31:37,394 - ModelTrainer - INFO - [Epoch 16] Average Loss: 0.5693, Accuracy: 80.39%\n",
      "2024-12-09 14:31:50,428 - ModelTrainer - INFO - [Epoch 17] Average Loss: 0.5530, Accuracy: 81.01%\n",
      "2024-12-09 14:32:03,464 - ModelTrainer - INFO - [Epoch 18] Average Loss: 0.5474, Accuracy: 80.98%\n",
      "2024-12-09 14:32:16,479 - ModelTrainer - INFO - [Epoch 19] Average Loss: 0.5458, Accuracy: 81.22%\n",
      "2024-12-09 14:32:29,396 - ModelTrainer - INFO - [Epoch 20] Average Loss: 0.5527, Accuracy: 80.99%\n",
      "2024-12-09 14:32:42,428 - ModelTrainer - INFO - [Epoch 21] Average Loss: 0.5235, Accuracy: 82.07%\n",
      "2024-12-09 14:32:55,463 - ModelTrainer - INFO - [Epoch 22] Average Loss: 0.5317, Accuracy: 81.62%\n",
      "2024-12-09 14:33:08,498 - ModelTrainer - INFO - [Epoch 23] Average Loss: 0.4960, Accuracy: 82.84%\n",
      "2024-12-09 14:33:21,513 - ModelTrainer - INFO - [Epoch 24] Average Loss: 0.4890, Accuracy: 82.97%\n",
      "2024-12-09 14:33:34,498 - ModelTrainer - INFO - [Epoch 25] Average Loss: 0.4600, Accuracy: 84.13%\n",
      "2024-12-09 14:33:35,323 - ModelTrainer - INFO - Model saved as 'object_recognition_model.pth'\n",
      "2024-12-09 14:33:36,313 - ModelTrainer - INFO - Test Loss: 1.0661, Test Accuracy: 81.61%\n"
     ]
    },
    {
     "data": {
      "text/plain": [
       "(1.0661339702879546, 81.61)"
      ]
     },
     "execution_count": 2,
     "metadata": {},
     "output_type": "execute_result"
    }
   ],
   "source": [
    "device = get_device()\n",
    "data_loader = DataLoader()\n",
    "model = resnet50(pretrained=True)\n",
    "# Modify the last layer to fit CIFAR-10 (10 classes)\n",
    "model.fc = nn.Linear(model.fc.in_features, 10)\n",
    "\n",
    "trainer = ModelTrainer(data_loader = data_loader, model = model, device = device)\n",
    "\n",
    "trainer.train()\n",
    "trainer.evaluate()"
   ]
  },
  {
   "cell_type": "markdown",
   "metadata": {},
   "source": [
    "# Launch TensorBoard to visualise the training"
   ]
  },
  {
   "cell_type": "code",
   "execution_count": 5,
   "metadata": {},
   "outputs": [],
   "source": [
    "%load_ext tensorboard\n",
    "%tensorboard --logdir=runs/ModelTrainer\n"
   ]
  },
  {
   "cell_type": "markdown",
   "metadata": {},
   "source": [
    "# Load model again for fine tuning"
   ]
  },
  {
   "cell_type": "code",
   "execution_count": 2,
   "metadata": {},
   "outputs": [
    {
     "name": "stderr",
     "output_type": "stream",
     "text": [
      "/home/s5724039/.pyenv/versions/anaconda3-2024.06-1/lib/python3.12/site-packages/torchvision/models/_utils.py:208: UserWarning: The parameter 'pretrained' is deprecated since 0.13 and may be removed in the future, please use 'weights' instead.\n",
      "  warnings.warn(\n",
      "/home/s5724039/.pyenv/versions/anaconda3-2024.06-1/lib/python3.12/site-packages/torchvision/models/_utils.py:223: UserWarning: Arguments other than a weight enum or `None` for 'weights' are deprecated since 0.13 and may be removed in the future. The current behavior is equivalent to passing `weights=ResNet50_Weights.IMAGENET1K_V1`. You can also use `weights=ResNet50_Weights.DEFAULT` to get the most up-to-date weights.\n",
      "  warnings.warn(msg)\n",
      "/tmp/ipykernel_37874/3886653444.py:6: FutureWarning: You are using `torch.load` with `weights_only=False` (the current default value), which uses the default pickle module implicitly. It is possible to construct malicious pickle data which will execute arbitrary code during unpickling (See https://github.com/pytorch/pytorch/blob/main/SECURITY.md#untrusted-models for more details). In a future release, the default value for `weights_only` will be flipped to `True`. This limits the functions that could be executed during unpickling. Arbitrary objects will no longer be allowed to be loaded via this mode unless they are explicitly allowlisted by the user via `torch.serialization.add_safe_globals`. We recommend you start setting `weights_only=True` for any use case where you don't have full control of the loaded file. Please open an issue on GitHub for any issues related to this experimental feature.\n",
      "  model.load_state_dict(torch.load('object_recognition_model.pth'))\n",
      "2024-12-09 14:37:32,214 - DataLoader - INFO - Loading data...\n"
     ]
    },
    {
     "name": "stdout",
     "output_type": "stream",
     "text": [
      "Files already downloaded and verified\n",
      "Files already downloaded and verified\n"
     ]
    },
    {
     "name": "stderr",
     "output_type": "stream",
     "text": [
      "2024-12-09 14:38:00,855 - ModelTrainer - INFO - [Epoch 1] Average Loss: 0.7060, Accuracy: 75.87%\n",
      "2024-12-09 14:38:28,192 - ModelTrainer - INFO - [Epoch 2] Average Loss: 0.6427, Accuracy: 77.71%\n",
      "2024-12-09 14:38:55,548 - ModelTrainer - INFO - [Epoch 3] Average Loss: 0.6228, Accuracy: 78.41%\n",
      "2024-12-09 14:39:22,844 - ModelTrainer - INFO - [Epoch 4] Average Loss: 0.6081, Accuracy: 78.84%\n",
      "2024-12-09 14:39:50,191 - ModelTrainer - INFO - [Epoch 5] Average Loss: 0.5954, Accuracy: 79.44%\n",
      "2024-12-09 14:40:17,499 - ModelTrainer - INFO - [Epoch 6] Average Loss: 0.5877, Accuracy: 79.46%\n",
      "2024-12-09 14:40:44,764 - ModelTrainer - INFO - [Epoch 7] Average Loss: 0.5771, Accuracy: 79.99%\n",
      "2024-12-09 14:41:12,102 - ModelTrainer - INFO - [Epoch 8] Average Loss: 0.5744, Accuracy: 79.97%\n",
      "2024-12-09 14:41:39,412 - ModelTrainer - INFO - [Epoch 9] Average Loss: 0.5583, Accuracy: 80.51%\n",
      "2024-12-09 14:42:06,657 - ModelTrainer - INFO - [Epoch 10] Average Loss: 0.5555, Accuracy: 80.75%\n",
      "2024-12-09 14:42:33,912 - ModelTrainer - INFO - [Epoch 11] Average Loss: 0.5561, Accuracy: 80.67%\n",
      "2024-12-09 14:43:01,313 - ModelTrainer - INFO - [Epoch 12] Average Loss: 0.5486, Accuracy: 80.70%\n",
      "2024-12-09 14:43:02,142 - ModelTrainer - INFO - Model saved as 'object_recognition_model.pth'\n",
      "2024-12-09 14:43:03,164 - ModelTrainer - INFO - Test Loss: 0.3780, Test Accuracy: 87.34%\n"
     ]
    },
    {
     "data": {
      "text/plain": [
       "(0.3780372785345005, 87.33999999999999)"
      ]
     },
     "execution_count": 2,
     "metadata": {},
     "output_type": "execute_result"
    }
   ],
   "source": [
    "device = get_device()\n",
    "data_loader = DataLoader(fine_tuning = True)\n",
    "\n",
    "model = resnet50(pretrained=True)  \n",
    "model.fc = nn.Linear(model.fc.in_features, 10)  \n",
    "model.load_state_dict(torch.load('object_recognition_model.pth'))\n",
    "\n",
    "# reduce learning rate for improvement\n",
    "trainer = ModelTrainer(data_loader=data_loader, model=model, device=device, learning_rate=0.0001, num_epochs=12)\n",
    "trainer.train()  \n",
    "trainer.evaluate()"
   ]
  },
  {
   "cell_type": "code",
   "execution_count": null,
   "metadata": {},
   "outputs": [],
   "source": [
    "%load_ext tensorboard\n",
    "%tensorboard --logdir=runs/ModelTrainer\n"
   ]
  },
  {
   "cell_type": "markdown",
   "metadata": {},
   "source": [
    "# Use the model on real images"
   ]
  },
  {
   "cell_type": "code",
   "execution_count": 3,
   "metadata": {},
   "outputs": [
    {
     "name": "stderr",
     "output_type": "stream",
     "text": [
      "/tmp/ipykernel_23756/2563290349.py:5: FutureWarning: You are using `torch.load` with `weights_only=False` (the current default value), which uses the default pickle module implicitly. It is possible to construct malicious pickle data which will execute arbitrary code during unpickling (See https://github.com/pytorch/pytorch/blob/main/SECURITY.md#untrusted-models for more details). In a future release, the default value for `weights_only` will be flipped to `True`. This limits the functions that could be executed during unpickling. Arbitrary objects will no longer be allowed to be loaded via this mode unless they are explicitly allowlisted by the user via `torch.serialization.add_safe_globals`. We recommend you start setting `weights_only=True` for any use case where you don't have full control of the loaded file. Please open an issue on GitHub for any issues related to this experimental feature.\n",
      "  model.load_state_dict(torch.load('object_recognition_model.pth'))\n"
     ]
    }
   ],
   "source": [
    "device = get_device()\n",
    "\n",
    "model = resnet50(pretrained=True)  \n",
    "model.fc = nn.Linear(model.fc.in_features, 10)  \n",
    "model.load_state_dict(torch.load('object_recognition_model.pth'))\n",
    "\n",
    "gui = Gui(model, device, class_labels)\n",
    "gui.open()"
   ]
  }
 ],
 "metadata": {
  "kernelspec": {
   "display_name": "base",
   "language": "python",
   "name": "python3"
  },
  "language_info": {
   "codemirror_mode": {
    "name": "ipython",
    "version": 3
   },
   "file_extension": ".py",
   "mimetype": "text/x-python",
   "name": "python",
   "nbconvert_exporter": "python",
   "pygments_lexer": "ipython3",
   "version": "3.12.4"
  }
 },
 "nbformat": 4,
 "nbformat_minor": 2
}
